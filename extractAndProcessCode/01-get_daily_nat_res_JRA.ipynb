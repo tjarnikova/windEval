{
 "cells": [
  {
   "cell_type": "markdown",
   "id": "3f8bd87b",
   "metadata": {},
   "source": [
    "### aim: check that all data \n",
    "\n",
    "### date: "
   ]
  },
  {
   "cell_type": "code",
   "execution_count": 1,
   "id": "8012f094",
   "metadata": {},
   "outputs": [
    {
     "data": {
      "text/html": [
       "<script>\n",
       "code_show=true; \n",
       "function code_toggle() {\n",
       " if (code_show){\n",
       " $('div.input').hide();\n",
       " } else {\n",
       " $('div.input').show();\n",
       " }\n",
       " code_show = !code_show\n",
       "} \n",
       "$( document ).ready(code_toggle);\n",
       "</script>\n",
       "<form action=\"javascript:code_toggle()\"><input type=\"submit\" value=\"Click here to toggle on/off the raw code.\"></form>"
      ],
      "text/plain": [
       "<IPython.core.display.HTML object>"
      ]
     },
     "execution_count": 1,
     "metadata": {},
     "output_type": "execute_result"
    }
   ],
   "source": [
    "from IPython.display import HTML\n",
    "\n",
    "HTML('''<script>\n",
    "code_show=true; \n",
    "function code_toggle() {\n",
    " if (code_show){\n",
    " $('div.input').hide();\n",
    " } else {\n",
    " $('div.input').show();\n",
    " }\n",
    " code_show = !code_show\n",
    "} \n",
    "$( document ).ready(code_toggle);\n",
    "</script>\n",
    "<form action=\"javascript:code_toggle()\"><input type=\"submit\" value=\"Click here to toggle on/off the raw code.\"></form>''')\n"
   ]
  },
  {
   "cell_type": "code",
   "execution_count": 2,
   "id": "c99f764a",
   "metadata": {},
   "outputs": [
    {
     "name": "stdin",
     "output_type": "stream",
     "text": [
      "Once deleted, variables cannot be recovered. Proceed (y/[n])?  y\n"
     ]
    }
   ],
   "source": [
    "%reset"
   ]
  },
  {
   "cell_type": "code",
   "execution_count": 3,
   "id": "7ba928a5",
   "metadata": {},
   "outputs": [],
   "source": [
    "import numpy as np\n",
    "from cmocean import cm\n",
    "import cartopy as cp\n",
    "import cartopy.crs as ccrs\n",
    "import netCDF4 as nc\n",
    "import matplotlib.pyplot as plt\n",
    "import xarray as xr\n",
    "\n",
    "%matplotlib inline\n",
    "import warnings\n",
    "from datetime import datetime\n",
    "warnings.filterwarnings('ignore')\n",
    "import cartopy.feature as cfeature\n",
    "from importlib import reload\n",
    "import matplotlib.path as mpath\n",
    "import glob\n",
    "import pickle\n",
    "import pandas as pd\n",
    "import seawater\n",
    "import time\n",
    "plt.rcParams.update({'font.size': 13})\n",
    "font = {'family' : 'normal',\n",
    "'weight' : 'normal',\n",
    "'size'   : 13}\n",
    "plt.rcParams['text.usetex'] = True\n",
    "plt.rc('font', **font)\n",
    "\n",
    "import arrow"
   ]
  },
  {
   "cell_type": "markdown",
   "id": "e6323f52-af03-4228-9baa-50ad6c4a83a3",
   "metadata": {},
   "source": [
    "## JRA"
   ]
  },
  {
   "cell_type": "code",
   "execution_count": null,
   "id": "fdefc85d-599d-463c-9bd6-8a4b68c0c0d4",
   "metadata": {},
   "outputs": [
    {
     "name": "stdout",
     "output_type": "stream",
     "text": [
      "1980\n",
      "opened files\n",
      "saved files\n",
      "1981\n",
      "opened files\n",
      "problem in yr 1981\n",
      "1982\n",
      "opened files\n",
      "saved files\n",
      "1983\n",
      "opened files\n",
      "saved files\n",
      "1984\n",
      "opened files\n",
      "saved files\n",
      "1985\n",
      "opened files\n",
      "problem in yr 1985\n",
      "1986\n",
      "problem in yr 1986\n",
      "1987\n",
      "problem in yr 1987\n",
      "1988\n"
     ]
    }
   ],
   "source": [
    "tdir = '//gpfs/data/greenocean2/software/products/windsFromComponents/JRA/'\n",
    "\n",
    "tf = 'jra3q.anl_surf.0_2_3.vgrd10m-hgt-an-gauss.1981030100_1981033118.nc'\n",
    "\n",
    "# w =xr.open_dataset(f'{tdir}{tf}')\n",
    "# # w\n",
    "\n",
    "mos = ['01', '02', '03', '04', '05', '06', '07', '08', '09', '10', '11', '12']\n",
    "\n",
    "def make_yearlists(yr):\n",
    "    \n",
    "    vlist = []\n",
    "    ulist = []\n",
    "    \n",
    "    for m in range(0,12):\n",
    "        tstr = f'{yr}{mos[m]}'\n",
    "        \n",
    "        t = glob.glob(f'{tdir}/jra3q.*vgrd10m*.{tstr}*.nc')\n",
    "        ts = t[0]\n",
    "        vlist.append(ts)\n",
    "        \n",
    "        t = glob.glob(f'{tdir}/jra3q.*ugrd10m*.{tstr}*.nc')\n",
    "        ts = t[0]\n",
    "        ulist.append(ts)\n",
    "        \n",
    "    return ulist, vlist\n",
    "\n",
    "\n",
    "for yr in range(1980,2024):\n",
    "    \n",
    "    print(yr)\n",
    "    \n",
    "    try:\n",
    "        \n",
    "        ulist, vlist = make_yearlists(yr)\n",
    "\n",
    "        ub = xr.open_mfdataset(ulist)\n",
    "        vb = xr.open_mfdataset(vlist)\n",
    "        print('opened files')\n",
    "        # vb = xr.open_mfdataset(vlist)\n",
    "        ub = ub.rename({\"ugrd10m-hgt-an-gauss\": \"u10m\"})\n",
    "        vb = vb.rename({\"vgrd10m-hgt-an-gauss\": \"v10m\"})\n",
    "\n",
    "        ub = ub['u10m'].resample(time='1D').mean()\n",
    "        vb = vb['v10m'].resample(time='1D').mean()\n",
    "\n",
    "        wspd = xr.ufuncs.sqrt(ub**2 + vb**2)\n",
    "        wspd.name = 'wspd10m'\n",
    "        wb = xr.merge([ub, vb, wspd])\n",
    "\n",
    "        wb.to_netcdf(f'/gpfs/data/greenocean2/software/products/windsFromComponents/JRA/daily/JRA_{yr}_daily.nc')\n",
    "        print('saved files')\n",
    "    \n",
    "    except:\n",
    "        \n",
    "        print(f'problem in yr {yr}')\n"
   ]
  },
  {
   "cell_type": "code",
   "execution_count": null,
   "id": "db2cebae-7282-4592-b859-b6fd54985ed9",
   "metadata": {},
   "outputs": [],
   "source": [
    "wb"
   ]
  },
  {
   "cell_type": "code",
   "execution_count": null,
   "id": "3e427388-cd74-4e96-8160-19a186f74155",
   "metadata": {},
   "outputs": [],
   "source": [
    "ub"
   ]
  },
  {
   "cell_type": "code",
   "execution_count": null,
   "id": "0d369e6a-adb8-448f-951e-d02ee49b8ca8",
   "metadata": {},
   "outputs": [],
   "source": [
    "ugrd = w['ugrd10m-hgt-an-gauss'].resample(time='1D').mean()\n",
    "vgrd = w['ugrd10m-hgt-an-gauss'].resample(time='1D').mean()"
   ]
  },
  {
   "cell_type": "code",
   "execution_count": null,
   "id": "bac14915-d9a6-478a-ba29-2a347a164edb",
   "metadata": {},
   "outputs": [],
   "source": [
    "\n",
    "\n",
    "wspd = xr.ufuncs.sqrt(uwi.uwind10m**2 + vwi.vwind10m**2)\n",
    "wspd.name = 'wspd10m'\n",
    "wb = xr.merge([uwi, vwi, wspd])\n",
    "wb = wb.rename({\"uwind10m\": \"u10m\"})\n",
    "wb = wb.rename({\"vwind10m\": \"v10m\"})"
   ]
  },
  {
   "cell_type": "code",
   "execution_count": null,
   "id": "da590757-5883-4198-af2a-6e7c3aba6fa9",
   "metadata": {},
   "outputs": [],
   "source": [
    "def get_daily(yr):\n",
    "\n",
    "    date_list = []\n",
    "    \n",
    "    # Loop through all months and days of the year\n",
    "    for month in range(1, 13):  # Months from 1 to 12\n",
    "        for day in range(1, 32):  # Days from 1 to 31\n",
    "            try:\n",
    "                # Create a date with year, month, and day\n",
    "                date = arrow.get(yr, month, day)\n",
    "                # Format the date as YYYYMMDD\n",
    "                formatted_date = date.format('YYYYMMDD')\n",
    "                # Append to the list\n",
    "                date_list.append(formatted_date)\n",
    "            except:\n",
    "                #print(f'no {month} {day}')\n",
    "                # Skip invalid dates (e.g., 1980-02-30)\n",
    "                continue\n",
    "    \n",
    "    print(len(date_list))\n",
    "    print(date_list[364])\n",
    "\n",
    "    for i in range(0,len(date_list)):\n",
    "        td = date_list[i]\n",
    "        # print(td)\n",
    "        tl = glob.glob(f'/gpfs/data/greenocean2/software/products/windsFromComponents/NASA-MERRA2/raw/downloads/*{td}*nc*')\n",
    "        print(tl)\n",
    "        \n",
    "        tdat = (tl[0])\n",
    "        w = xr.open_dataset(tdat)\n",
    "        \n",
    "        # Resample both variables from hourly to daily, taking the mean for simplicity\n",
    "        UL_daily = w['U10M'].resample(time='1D').mean()\n",
    "        VL_daily = w['V10M'].resample(time='1D').mean()\n",
    "        twind = xr.ufuncs.sqrt(xr.ufuncs.square(UL_daily) + xr.ufuncs.square(VL_daily))\n",
    "        twind.name = 'windspeed'\n",
    "\n",
    "        # Create a new dataset with the resampled variables\n",
    "        new_ds = xr.Dataset({\n",
    "            'u10m': UL_daily,\n",
    "            'v10m': VL_daily,\n",
    "            'wspd10m': twind,\n",
    "        \n",
    "            \n",
    "        })\n",
    "        \n",
    "        newdat = f'/gpfs/data/greenocean2/software/products/windsFromComponents/NASA-MERRA2/daily/MERRA2_{td}_daily.nc'\n",
    "        # if i%20 == 0:\n",
    "        #     print(newdat)\n",
    "        new_ds.to_netcdf(newdat)        \n",
    "        "
   ]
  },
  {
   "cell_type": "markdown",
   "id": "5f75d831-41d1-4da7-a1ce-2aa1ee28981a",
   "metadata": {},
   "source": [
    "## test daily"
   ]
  },
  {
   "cell_type": "code",
   "execution_count": null,
   "id": "49385a41-2b19-47b7-83a1-7730eb2d73ff",
   "metadata": {},
   "outputs": [],
   "source": [
    "def test_daily(yr):\n",
    "\n",
    "    date_list = []\n",
    "    \n",
    "    # Loop through all months and days of the year\n",
    "    for month in range(1, 13):  # Months from 1 to 12\n",
    "        for day in range(1, 32):  # Days from 1 to 31\n",
    "            try:\n",
    "                # Create a date with year, month, and day\n",
    "                date = arrow.get(yr, month, day)\n",
    "                # Format the date as YYYYMMDD\n",
    "                formatted_date = date.format('YYYYMMDD')\n",
    "                # Append to the list\n",
    "                date_list.append(formatted_date)\n",
    "            except:\n",
    "                #print(f'no {month} {day}')\n",
    "                # Skip invalid dates (e.g., 1980-02-30)\n",
    "                continue\n",
    "    \n",
    "    print(len(date_list))\n",
    "    print(date_list[364])\n",
    "\n",
    "    for i in range(0,len(date_list)):\n",
    "        td = date_list[i]\n",
    "        # print(td)\n",
    "        tl = glob.glob(f'/gpfs/data/greenocean2/software/products/windsFromComponents/NASA-MERRA2/raw/downloads/*{td}*nc*')\n",
    "        #print(tl)\n",
    "        try:\n",
    "            tdat = (tl[0])\n",
    "            w = xr.open_dataset(tdat)\n",
    "        except:\n",
    "            print(td)\n",
    "    \n",
    "        "
   ]
  },
  {
   "cell_type": "code",
   "execution_count": null,
   "id": "fec76a24-f37d-4f4c-b559-5beb2dadb083",
   "metadata": {},
   "outputs": [],
   "source": [
    "ex = False\n",
    "if ex:\n",
    "    # for yr in range(1981,2024):\n",
    "    #     print(yr)\n",
    "    #     test_daily(yr)\n",
    "    for yr in range(1984,2024):\n",
    "        print(yr)\n",
    "        get_daily(yr)"
   ]
  },
  {
   "cell_type": "code",
   "execution_count": null,
   "id": "cc2e3707-8c77-4c88-a67c-a80ba9ed7f1d",
   "metadata": {},
   "outputs": [],
   "source": [
    "# ex = True\n",
    "# if ex:\n",
    "#     for yr in range(1981,2024):\n",
    "#         print(yr)\n",
    "#         get_daily(yr)\n",
    "#     # for yr in range(1995,2024):\n",
    "#     #     print(yr)\n",
    "#     #     get_daily(yr)"
   ]
  },
  {
   "cell_type": "code",
   "execution_count": null,
   "id": "6eb13f90-9cb0-4dbf-a08c-dd62335c9c60",
   "metadata": {},
   "outputs": [],
   "source": []
  },
  {
   "cell_type": "code",
   "execution_count": null,
   "id": "2af0b71c-69a0-4a1a-a85d-bba54f3a8fa1",
   "metadata": {},
   "outputs": [],
   "source": []
  },
  {
   "cell_type": "code",
   "execution_count": null,
   "id": "0d86c594-d133-4f2c-bc3f-188624fceb23",
   "metadata": {},
   "outputs": [],
   "source": [
    "def get_daily_list(yr):\n",
    "\n",
    "    date_list = []\n",
    "    \n",
    "    # Loop through all months and days of the year\n",
    "    for month in range(1, 13):  # Months from 1 to 12\n",
    "        for day in range(1, 32):  # Days from 1 to 31\n",
    "            try:\n",
    "                # Create a date with year, month, and day\n",
    "                date = arrow.get(yr, month, day)\n",
    "                # Format the date as YYYYMMDD\n",
    "                formatted_date = date.format('YYYYMMDD')\n",
    "                # Append to the list\n",
    "                date_list.append(formatted_date)\n",
    "            except:\n",
    "                #print(f'no {month} {day}')\n",
    "                # Skip invalid dates (e.g., 1980-02-30)\n",
    "                continue\n",
    "    \n",
    "    print(len(date_list))\n",
    "    print(date_list[364])\n",
    "\n",
    "    dailylist = []\n",
    "    for i in range(0,len(date_list)):\n",
    "        td = date_list[i]\n",
    "        tl = glob.glob(f'/gpfs/data/greenocean2/software/products/windsFromComponents/NASA-MERRA2/daily/MERRA2_{td}_daily.nc')\n",
    "        tdat = (tl[0])\n",
    "        dailylist.append(tdat)\n",
    "\n",
    "    return dailylist\n"
   ]
  },
  {
   "cell_type": "code",
   "execution_count": null,
   "id": "e0a75575-e6ca-4f2c-a003-6e2cb6346265",
   "metadata": {},
   "outputs": [],
   "source": [
    "ex = False\n",
    "if ex:\n",
    "    for y in range(1997,2024):\n",
    "\n",
    "        dl = get_daily_list(y)\n",
    "        w = xr.open_mfdataset(dl)\n",
    "        w.to_netcdf(f'/gpfs/data/greenocean2/software/products/windsFromComponents/NASA-MERRA2/daily/MERRA2_FY_{y}_daily.nc')"
   ]
  },
  {
   "cell_type": "code",
   "execution_count": null,
   "id": "1cce1228-1326-43cb-a98d-b36913b360ff",
   "metadata": {},
   "outputs": [],
   "source": [
    "td = '/gpfs/data/greenocean2/software/products/windsFromComponents/dailyStandard/MERRA/'\n",
    "\n",
    "\n",
    "ex = True\n",
    "if ex:\n",
    "    for y in range(1991,2024):\n",
    "\n",
    "        w = xr.open_mfdataset(f'{td}/MERRA_wind_daily_1x1_{y}.nc')\n",
    "        wr = w.rename({\"time\": \"time_counter\"})\n",
    "        wr.to_netcdf(f'{td}/fix/MERRA_wind_daily_1x1_{y}.nc')"
   ]
  },
  {
   "cell_type": "code",
   "execution_count": null,
   "id": "7bdacfee-794e-4d54-8eba-189898feb048",
   "metadata": {},
   "outputs": [],
   "source": []
  }
 ],
 "metadata": {
  "kernelspec": {
   "display_name": "Python 3 (ipykernel)",
   "language": "python",
   "name": "python3"
  },
  "language_info": {
   "codemirror_mode": {
    "name": "ipython",
    "version": 3
   },
   "file_extension": ".py",
   "mimetype": "text/x-python",
   "name": "python",
   "nbconvert_exporter": "python",
   "pygments_lexer": "ipython3",
   "version": "3.7.11"
  }
 },
 "nbformat": 4,
 "nbformat_minor": 5
}
