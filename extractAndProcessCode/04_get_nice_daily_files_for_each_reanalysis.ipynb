{
 "cells": [
  {
   "cell_type": "markdown",
   "id": "3f8bd87b",
   "metadata": {},
   "source": [
    "### aim: \n",
    "\n",
    "### date: "
   ]
  },
  {
   "cell_type": "code",
   "execution_count": 4,
   "id": "8012f094",
   "metadata": {},
   "outputs": [
    {
     "data": {
      "text/html": [
       "<script>\n",
       "code_show=true; \n",
       "function code_toggle() {\n",
       " if (code_show){\n",
       " $('div.input').hide();\n",
       " } else {\n",
       " $('div.input').show();\n",
       " }\n",
       " code_show = !code_show\n",
       "} \n",
       "$( document ).ready(code_toggle);\n",
       "</script>\n",
       "<form action=\"javascript:code_toggle()\"><input type=\"submit\" value=\"Click here to toggle on/off the raw code.\"></form>"
      ],
      "text/plain": [
       "<IPython.core.display.HTML object>"
      ]
     },
     "execution_count": 4,
     "metadata": {},
     "output_type": "execute_result"
    }
   ],
   "source": [
    "from IPython.display import HTML\n",
    "\n",
    "HTML('''<script>\n",
    "code_show=true; \n",
    "function code_toggle() {\n",
    " if (code_show){\n",
    " $('div.input').hide();\n",
    " } else {\n",
    " $('div.input').show();\n",
    " }\n",
    " code_show = !code_show\n",
    "} \n",
    "$( document ).ready(code_toggle);\n",
    "</script>\n",
    "<form action=\"javascript:code_toggle()\"><input type=\"submit\" value=\"Click here to toggle on/off the raw code.\"></form>''')\n"
   ]
  },
  {
   "cell_type": "code",
   "execution_count": 5,
   "id": "c99f764a",
   "metadata": {},
   "outputs": [
    {
     "name": "stdin",
     "output_type": "stream",
     "text": [
      "Once deleted, variables cannot be recovered. Proceed (y/[n])?  y\n"
     ]
    }
   ],
   "source": [
    "%reset"
   ]
  },
  {
   "cell_type": "code",
   "execution_count": 6,
   "id": "7ba928a5",
   "metadata": {},
   "outputs": [],
   "source": [
    "import numpy as np\n",
    "from cmocean import cm\n",
    "import cartopy as cp\n",
    "import cartopy.crs as ccrs\n",
    "import netCDF4 as nc\n",
    "import matplotlib.pyplot as plt\n",
    "import xarray as xr\n",
    "\n",
    "%matplotlib inline\n",
    "import warnings\n",
    "from datetime import datetime\n",
    "warnings.filterwarnings('ignore')\n",
    "import cartopy.feature as cfeature\n",
    "from importlib import reload\n",
    "import matplotlib.path as mpath\n",
    "import glob\n",
    "import pickle\n",
    "import pandas as pd\n",
    "import seawater\n",
    "import time\n",
    "plt.rcParams.update({'font.size': 13})\n",
    "font = {'family' : 'normal',\n",
    "'weight' : 'normal',\n",
    "'size'   : 13}\n",
    "plt.rcParams['text.usetex'] = True\n",
    "plt.rc('font', **font)"
   ]
  },
  {
   "cell_type": "markdown",
   "id": "d51b31d9-6c66-4f36-a9c0-bfa5b97150ca",
   "metadata": {},
   "source": [
    "## Jra rename time "
   ]
  },
  {
   "cell_type": "code",
   "execution_count": null,
   "id": "1a1c8144-9cf7-4552-93b8-e6ec111edbfe",
   "metadata": {},
   "outputs": [],
   "source": []
  },
  {
   "cell_type": "markdown",
   "id": "833bdecd-c28b-4be5-b6eb-6bcc1d9251b6",
   "metadata": {},
   "source": [
    "## check that the uwnds are different ncar/doe"
   ]
  },
  {
   "cell_type": "code",
   "execution_count": 12,
   "id": "2f378f27-1258-4a16-b986-c1b0607146cc",
   "metadata": {},
   "outputs": [
    {
     "data": {
      "text/plain": [
       "<class 'netCDF4._netCDF4.Dataset'>\n",
       "root group (NETCDF4 data model, file format HDF5):\n",
       "    CDI: Climate Data Interface version 2.0.5 (https://mpimet.mpg.de/cdi)\n",
       "    Conventions: CF-1.6\n",
       "    history: Mon Oct 07 09:48:24 2024: cdo remapbil,r360x180 /gpfs/data/greenocean2/software/products/windsFromComponents/JRA/daily/JRA_1980_daily.nc /gpfs/data/greenocean2/software/products/windsFromComponents/dailyStandard/JRA/JRA_wind_daily_1x1_1980.nc\n",
       "    CDO: Climate Data Operators version 2.0.5 (https://mpimet.mpg.de/cdo)\n",
       "    dimensions(sizes): time(366), lon(360), lat(180)\n",
       "    variables(dimensions): float64 time(time), float64 lon(lon), float64 lat(lat), float32 u10m(time,lat,lon), float32 v10m(time,lat,lon), float32 wspd10m(time,lat,lon)\n",
       "    groups: "
      ]
     },
     "execution_count": 12,
     "metadata": {},
     "output_type": "execute_result"
    }
   ],
   "source": [
    "w = nc.Dataset(f'{tdir}/JRA_wind_daily_1x1_{yr}.nc')\n",
    "w"
   ]
  },
  {
   "cell_type": "code",
   "execution_count": 16,
   "id": "c7eed29a-ecc5-4c34-90a1-b2a662cbf79b",
   "metadata": {},
   "outputs": [
    {
     "ename": "AttributeError",
     "evalue": "module 'numpy' has no attribute 'matrix'",
     "output_type": "error",
     "traceback": [
      "\u001b[0;31m---------------------------------------------------------------------------\u001b[0m",
      "\u001b[0;31mAttributeError\u001b[0m                            Traceback (most recent call last)",
      "\u001b[0;32m/tmp/ipykernel_25364/3955815480.py\u001b[0m in \u001b[0;36m<module>\u001b[0;34m\u001b[0m\n\u001b[1;32m      3\u001b[0m \u001b[0;34m\u001b[0m\u001b[0m\n\u001b[1;32m      4\u001b[0m     \u001b[0mtdir\u001b[0m \u001b[0;34m=\u001b[0m \u001b[0;34m'/gpfs/data/greenocean2/software/products/windsFromComponents/dailyStandard/MERRA/'\u001b[0m\u001b[0;34m\u001b[0m\u001b[0;34m\u001b[0m\u001b[0m\n\u001b[0;32m----> 5\u001b[0;31m     \u001b[0mds\u001b[0m \u001b[0;34m=\u001b[0m \u001b[0mxr\u001b[0m\u001b[0;34m.\u001b[0m\u001b[0mopen_dataset\u001b[0m\u001b[0;34m(\u001b[0m\u001b[0;34mf'{tdir}/MERRA_wind_daily_1x1_{yr}.nc'\u001b[0m\u001b[0;34m)\u001b[0m\u001b[0;31m#, decode_time = False)\u001b[0m\u001b[0;34m\u001b[0m\u001b[0;34m\u001b[0m\u001b[0m\n\u001b[0m\u001b[1;32m      6\u001b[0m     \u001b[0;31m# ds = ds.rename({'time': 'time_counter'})\u001b[0m\u001b[0;34m\u001b[0m\u001b[0;34m\u001b[0m\u001b[0;34m\u001b[0m\u001b[0m\n\u001b[1;32m      7\u001b[0m     \u001b[0;31m# ds.to_netcdf(f'{tdir}/JRA_wind_daily_1x1_{yr}.nc')\u001b[0m\u001b[0;34m\u001b[0m\u001b[0;34m\u001b[0m\u001b[0;34m\u001b[0m\u001b[0m\n",
      "\u001b[0;32m~/.conda/envs/swamp2/lib/python3.7/site-packages/xarray/backends/api.py\u001b[0m in \u001b[0;36mopen_dataset\u001b[0;34m(filename_or_obj, group, decode_cf, mask_and_scale, decode_times, concat_characters, decode_coords, engine, chunks, lock, cache, drop_variables, backend_kwargs, use_cftime, decode_timedelta)\u001b[0m\n\u001b[1;32m    555\u001b[0m \u001b[0;34m\u001b[0m\u001b[0m\n\u001b[1;32m    556\u001b[0m     \u001b[0;32mwith\u001b[0m \u001b[0mclose_on_error\u001b[0m\u001b[0;34m(\u001b[0m\u001b[0mstore\u001b[0m\u001b[0;34m)\u001b[0m\u001b[0;34m:\u001b[0m\u001b[0;34m\u001b[0m\u001b[0;34m\u001b[0m\u001b[0m\n\u001b[0;32m--> 557\u001b[0;31m         \u001b[0mds\u001b[0m \u001b[0;34m=\u001b[0m \u001b[0mmaybe_decode_store\u001b[0m\u001b[0;34m(\u001b[0m\u001b[0mstore\u001b[0m\u001b[0;34m,\u001b[0m \u001b[0mchunks\u001b[0m\u001b[0;34m)\u001b[0m\u001b[0;34m\u001b[0m\u001b[0;34m\u001b[0m\u001b[0m\n\u001b[0m\u001b[1;32m    558\u001b[0m \u001b[0;34m\u001b[0m\u001b[0m\n\u001b[1;32m    559\u001b[0m     \u001b[0;31m# Ensure source filename always stored in dataset object (GH issue #2550)\u001b[0m\u001b[0;34m\u001b[0m\u001b[0;34m\u001b[0m\u001b[0;34m\u001b[0m\u001b[0m\n",
      "\u001b[0;32m~/.conda/envs/swamp2/lib/python3.7/site-packages/xarray/backends/api.py\u001b[0m in \u001b[0;36mmaybe_decode_store\u001b[0;34m(store, chunks)\u001b[0m\n\u001b[1;32m    459\u001b[0m             \u001b[0mdrop_variables\u001b[0m\u001b[0;34m=\u001b[0m\u001b[0mdrop_variables\u001b[0m\u001b[0;34m,\u001b[0m\u001b[0;34m\u001b[0m\u001b[0;34m\u001b[0m\u001b[0m\n\u001b[1;32m    460\u001b[0m             \u001b[0muse_cftime\u001b[0m\u001b[0;34m=\u001b[0m\u001b[0muse_cftime\u001b[0m\u001b[0;34m,\u001b[0m\u001b[0;34m\u001b[0m\u001b[0;34m\u001b[0m\u001b[0m\n\u001b[0;32m--> 461\u001b[0;31m             \u001b[0mdecode_timedelta\u001b[0m\u001b[0;34m=\u001b[0m\u001b[0mdecode_timedelta\u001b[0m\u001b[0;34m,\u001b[0m\u001b[0;34m\u001b[0m\u001b[0;34m\u001b[0m\u001b[0m\n\u001b[0m\u001b[1;32m    462\u001b[0m         )\n\u001b[1;32m    463\u001b[0m \u001b[0;34m\u001b[0m\u001b[0m\n",
      "\u001b[0;32m~/.conda/envs/swamp2/lib/python3.7/site-packages/xarray/conventions.py\u001b[0m in \u001b[0;36mdecode_cf\u001b[0;34m(obj, concat_characters, mask_and_scale, decode_times, decode_coords, drop_variables, use_cftime, decode_timedelta)\u001b[0m\n\u001b[1;32m    653\u001b[0m         \u001b[0mdrop_variables\u001b[0m\u001b[0;34m=\u001b[0m\u001b[0mdrop_variables\u001b[0m\u001b[0;34m,\u001b[0m\u001b[0;34m\u001b[0m\u001b[0;34m\u001b[0m\u001b[0m\n\u001b[1;32m    654\u001b[0m         \u001b[0muse_cftime\u001b[0m\u001b[0;34m=\u001b[0m\u001b[0muse_cftime\u001b[0m\u001b[0;34m,\u001b[0m\u001b[0;34m\u001b[0m\u001b[0;34m\u001b[0m\u001b[0m\n\u001b[0;32m--> 655\u001b[0;31m         \u001b[0mdecode_timedelta\u001b[0m\u001b[0;34m=\u001b[0m\u001b[0mdecode_timedelta\u001b[0m\u001b[0;34m,\u001b[0m\u001b[0;34m\u001b[0m\u001b[0;34m\u001b[0m\u001b[0m\n\u001b[0m\u001b[1;32m    656\u001b[0m     )\n\u001b[1;32m    657\u001b[0m     \u001b[0mds\u001b[0m \u001b[0;34m=\u001b[0m \u001b[0mDataset\u001b[0m\u001b[0;34m(\u001b[0m\u001b[0mvars\u001b[0m\u001b[0;34m,\u001b[0m \u001b[0mattrs\u001b[0m\u001b[0;34m=\u001b[0m\u001b[0mattrs\u001b[0m\u001b[0;34m)\u001b[0m\u001b[0;34m\u001b[0m\u001b[0;34m\u001b[0m\u001b[0m\n",
      "\u001b[0;32m~/.conda/envs/swamp2/lib/python3.7/site-packages/xarray/conventions.py\u001b[0m in \u001b[0;36mdecode_cf_variables\u001b[0;34m(variables, attributes, concat_characters, mask_and_scale, decode_times, decode_coords, drop_variables, use_cftime, decode_timedelta)\u001b[0m\n\u001b[1;32m    518\u001b[0m             \u001b[0mstack_char_dim\u001b[0m\u001b[0;34m=\u001b[0m\u001b[0mstack_char_dim\u001b[0m\u001b[0;34m,\u001b[0m\u001b[0;34m\u001b[0m\u001b[0;34m\u001b[0m\u001b[0m\n\u001b[1;32m    519\u001b[0m             \u001b[0muse_cftime\u001b[0m\u001b[0;34m=\u001b[0m\u001b[0muse_cftime\u001b[0m\u001b[0;34m,\u001b[0m\u001b[0;34m\u001b[0m\u001b[0;34m\u001b[0m\u001b[0m\n\u001b[0;32m--> 520\u001b[0;31m             \u001b[0mdecode_timedelta\u001b[0m\u001b[0;34m=\u001b[0m\u001b[0mdecode_timedelta\u001b[0m\u001b[0;34m,\u001b[0m\u001b[0;34m\u001b[0m\u001b[0;34m\u001b[0m\u001b[0m\n\u001b[0m\u001b[1;32m    521\u001b[0m         )\n\u001b[1;32m    522\u001b[0m         \u001b[0;32mif\u001b[0m \u001b[0mdecode_coords\u001b[0m \u001b[0;32min\u001b[0m \u001b[0;34m[\u001b[0m\u001b[0;32mTrue\u001b[0m\u001b[0;34m,\u001b[0m \u001b[0;34m\"coordinates\"\u001b[0m\u001b[0;34m,\u001b[0m \u001b[0;34m\"all\"\u001b[0m\u001b[0;34m]\u001b[0m\u001b[0;34m:\u001b[0m\u001b[0;34m\u001b[0m\u001b[0;34m\u001b[0m\u001b[0m\n",
      "\u001b[0;32m~/.conda/envs/swamp2/lib/python3.7/site-packages/xarray/conventions.py\u001b[0m in \u001b[0;36mdecode_cf_variable\u001b[0;34m(name, var, concat_characters, mask_and_scale, decode_times, decode_endianness, stack_char_dim, use_cftime, decode_timedelta)\u001b[0m\n\u001b[1;32m    353\u001b[0m             \u001b[0mvariables\u001b[0m\u001b[0;34m.\u001b[0m\u001b[0mCFScaleOffsetCoder\u001b[0m\u001b[0;34m(\u001b[0m\u001b[0;34m)\u001b[0m\u001b[0;34m,\u001b[0m\u001b[0;34m\u001b[0m\u001b[0;34m\u001b[0m\u001b[0m\n\u001b[1;32m    354\u001b[0m         ]:\n\u001b[0;32m--> 355\u001b[0;31m             \u001b[0mvar\u001b[0m \u001b[0;34m=\u001b[0m \u001b[0mcoder\u001b[0m\u001b[0;34m.\u001b[0m\u001b[0mdecode\u001b[0m\u001b[0;34m(\u001b[0m\u001b[0mvar\u001b[0m\u001b[0;34m,\u001b[0m \u001b[0mname\u001b[0m\u001b[0;34m=\u001b[0m\u001b[0mname\u001b[0m\u001b[0;34m)\u001b[0m\u001b[0;34m\u001b[0m\u001b[0;34m\u001b[0m\u001b[0m\n\u001b[0m\u001b[1;32m    356\u001b[0m \u001b[0;34m\u001b[0m\u001b[0m\n\u001b[1;32m    357\u001b[0m     \u001b[0;32mif\u001b[0m \u001b[0mdecode_timedelta\u001b[0m\u001b[0;34m:\u001b[0m\u001b[0;34m\u001b[0m\u001b[0;34m\u001b[0m\u001b[0m\n",
      "\u001b[0;32m~/.conda/envs/swamp2/lib/python3.7/site-packages/xarray/coding/variables.py\u001b[0m in \u001b[0;36mdecode\u001b[0;34m(self, variable, name)\u001b[0m\n\u001b[1;32m    188\u001b[0m             encoded_fill_values = {\n\u001b[1;32m    189\u001b[0m                 \u001b[0mfv\u001b[0m\u001b[0;34m\u001b[0m\u001b[0;34m\u001b[0m\u001b[0m\n\u001b[0;32m--> 190\u001b[0;31m                 \u001b[0;32mfor\u001b[0m \u001b[0moption\u001b[0m \u001b[0;32min\u001b[0m \u001b[0mraw_fill_values\u001b[0m\u001b[0;34m\u001b[0m\u001b[0;34m\u001b[0m\u001b[0m\n\u001b[0m\u001b[1;32m    191\u001b[0m                 \u001b[0;32mfor\u001b[0m \u001b[0mfv\u001b[0m \u001b[0;32min\u001b[0m \u001b[0mnp\u001b[0m\u001b[0;34m.\u001b[0m\u001b[0mravel\u001b[0m\u001b[0;34m(\u001b[0m\u001b[0moption\u001b[0m\u001b[0;34m)\u001b[0m\u001b[0;34m\u001b[0m\u001b[0;34m\u001b[0m\u001b[0m\n\u001b[1;32m    192\u001b[0m                 \u001b[0;32mif\u001b[0m \u001b[0;32mnot\u001b[0m \u001b[0mpd\u001b[0m\u001b[0;34m.\u001b[0m\u001b[0misnull\u001b[0m\u001b[0;34m(\u001b[0m\u001b[0mfv\u001b[0m\u001b[0;34m)\u001b[0m\u001b[0;34m\u001b[0m\u001b[0;34m\u001b[0m\u001b[0m\n",
      "\u001b[0;32m~/.conda/envs/swamp2/lib/python3.7/site-packages/xarray/coding/variables.py\u001b[0m in \u001b[0;36m<setcomp>\u001b[0;34m(.0)\u001b[0m\n\u001b[1;32m    189\u001b[0m                 \u001b[0mfv\u001b[0m\u001b[0;34m\u001b[0m\u001b[0;34m\u001b[0m\u001b[0m\n\u001b[1;32m    190\u001b[0m                 \u001b[0;32mfor\u001b[0m \u001b[0moption\u001b[0m \u001b[0;32min\u001b[0m \u001b[0mraw_fill_values\u001b[0m\u001b[0;34m\u001b[0m\u001b[0;34m\u001b[0m\u001b[0m\n\u001b[0;32m--> 191\u001b[0;31m                 \u001b[0;32mfor\u001b[0m \u001b[0mfv\u001b[0m \u001b[0;32min\u001b[0m \u001b[0mnp\u001b[0m\u001b[0;34m.\u001b[0m\u001b[0mravel\u001b[0m\u001b[0;34m(\u001b[0m\u001b[0moption\u001b[0m\u001b[0;34m)\u001b[0m\u001b[0;34m\u001b[0m\u001b[0;34m\u001b[0m\u001b[0m\n\u001b[0m\u001b[1;32m    192\u001b[0m                 \u001b[0;32mif\u001b[0m \u001b[0;32mnot\u001b[0m \u001b[0mpd\u001b[0m\u001b[0;34m.\u001b[0m\u001b[0misnull\u001b[0m\u001b[0;34m(\u001b[0m\u001b[0mfv\u001b[0m\u001b[0;34m)\u001b[0m\u001b[0;34m\u001b[0m\u001b[0;34m\u001b[0m\u001b[0m\n\u001b[1;32m    193\u001b[0m             }\n",
      "\u001b[0;32m<__array_function__ internals>\u001b[0m in \u001b[0;36mravel\u001b[0;34m(*args, **kwargs)\u001b[0m\n",
      "\u001b[0;32m~/.conda/envs/swamp2/lib/python3.7/site-packages/numpy/core/fromnumeric.py\u001b[0m in \u001b[0;36mravel\u001b[0;34m(a, order)\u001b[0m\n\u001b[1;32m   1817\u001b[0m \u001b[0;34m\u001b[0m\u001b[0m\n\u001b[1;32m   1818\u001b[0m     \"\"\"\n\u001b[0;32m-> 1819\u001b[0;31m     \u001b[0;32mif\u001b[0m \u001b[0misinstance\u001b[0m\u001b[0;34m(\u001b[0m\u001b[0ma\u001b[0m\u001b[0;34m,\u001b[0m \u001b[0mnp\u001b[0m\u001b[0;34m.\u001b[0m\u001b[0mmatrix\u001b[0m\u001b[0;34m)\u001b[0m\u001b[0;34m:\u001b[0m\u001b[0;34m\u001b[0m\u001b[0;34m\u001b[0m\u001b[0m\n\u001b[0m\u001b[1;32m   1820\u001b[0m         \u001b[0;32mreturn\u001b[0m \u001b[0masarray\u001b[0m\u001b[0;34m(\u001b[0m\u001b[0ma\u001b[0m\u001b[0;34m)\u001b[0m\u001b[0;34m.\u001b[0m\u001b[0mravel\u001b[0m\u001b[0;34m(\u001b[0m\u001b[0morder\u001b[0m\u001b[0;34m=\u001b[0m\u001b[0morder\u001b[0m\u001b[0;34m)\u001b[0m\u001b[0;34m\u001b[0m\u001b[0;34m\u001b[0m\u001b[0m\n\u001b[1;32m   1821\u001b[0m     \u001b[0;32melse\u001b[0m\u001b[0;34m:\u001b[0m\u001b[0;34m\u001b[0m\u001b[0;34m\u001b[0m\u001b[0m\n",
      "\u001b[0;31mAttributeError\u001b[0m: module 'numpy' has no attribute 'matrix'"
     ]
    }
   ],
   "source": [
    "import xarray as xr\n",
    "for yr in range(1980,2021):\n",
    "    \n",
    "    tdir = '/gpfs/data/greenocean2/software/products/windsFromComponents/dailyStandard/MERRA/'\n",
    "    ds = xr.open_dataset(f'{tdir}/MERRA_wind_daily_1x1_{yr}.nc')#, decode_time = False)\n",
    "    # ds = ds.rename({'time': 'time_counter'})\n",
    "    # ds.to_netcdf(f'{tdir}/JRA_wind_daily_1x1_{yr}.nc')\n",
    "    print(yr)"
   ]
  },
  {
   "cell_type": "code",
   "execution_count": 10,
   "id": "84176679-f7fc-4a14-8cde-eeb015dbe77a",
   "metadata": {},
   "outputs": [
    {
     "ename": "AttributeError",
     "evalue": "module 'numpy' has no attribute 'matrix'",
     "output_type": "error",
     "traceback": [
      "\u001b[0;31m---------------------------------------------------------------------------\u001b[0m",
      "\u001b[0;31mAttributeError\u001b[0m                            Traceback (most recent call last)",
      "\u001b[0;32m/tmp/ipykernel_25364/483452762.py\u001b[0m in \u001b[0;36m<module>\u001b[0;34m\u001b[0m\n\u001b[0;32m----> 1\u001b[0;31m \u001b[0mds\u001b[0m \u001b[0;34m=\u001b[0m \u001b[0mxr\u001b[0m\u001b[0;34m.\u001b[0m\u001b[0mopen_dataset\u001b[0m\u001b[0;34m(\u001b[0m\u001b[0;34mf'{tdir}/JRA_wind_daily_1x1_{yr}.nc'\u001b[0m\u001b[0;34m)\u001b[0m\u001b[0;34m\u001b[0m\u001b[0;34m\u001b[0m\u001b[0m\n\u001b[0m",
      "\u001b[0;32m~/.conda/envs/swamp2/lib/python3.7/site-packages/xarray/backends/api.py\u001b[0m in \u001b[0;36mopen_dataset\u001b[0;34m(filename_or_obj, group, decode_cf, mask_and_scale, decode_times, concat_characters, decode_coords, engine, chunks, lock, cache, drop_variables, backend_kwargs, use_cftime, decode_timedelta)\u001b[0m\n\u001b[1;32m    555\u001b[0m \u001b[0;34m\u001b[0m\u001b[0m\n\u001b[1;32m    556\u001b[0m     \u001b[0;32mwith\u001b[0m \u001b[0mclose_on_error\u001b[0m\u001b[0;34m(\u001b[0m\u001b[0mstore\u001b[0m\u001b[0;34m)\u001b[0m\u001b[0;34m:\u001b[0m\u001b[0;34m\u001b[0m\u001b[0;34m\u001b[0m\u001b[0m\n\u001b[0;32m--> 557\u001b[0;31m         \u001b[0mds\u001b[0m \u001b[0;34m=\u001b[0m \u001b[0mmaybe_decode_store\u001b[0m\u001b[0;34m(\u001b[0m\u001b[0mstore\u001b[0m\u001b[0;34m,\u001b[0m \u001b[0mchunks\u001b[0m\u001b[0;34m)\u001b[0m\u001b[0;34m\u001b[0m\u001b[0;34m\u001b[0m\u001b[0m\n\u001b[0m\u001b[1;32m    558\u001b[0m \u001b[0;34m\u001b[0m\u001b[0m\n\u001b[1;32m    559\u001b[0m     \u001b[0;31m# Ensure source filename always stored in dataset object (GH issue #2550)\u001b[0m\u001b[0;34m\u001b[0m\u001b[0;34m\u001b[0m\u001b[0;34m\u001b[0m\u001b[0m\n",
      "\u001b[0;32m~/.conda/envs/swamp2/lib/python3.7/site-packages/xarray/backends/api.py\u001b[0m in \u001b[0;36mmaybe_decode_store\u001b[0;34m(store, chunks)\u001b[0m\n\u001b[1;32m    459\u001b[0m             \u001b[0mdrop_variables\u001b[0m\u001b[0;34m=\u001b[0m\u001b[0mdrop_variables\u001b[0m\u001b[0;34m,\u001b[0m\u001b[0;34m\u001b[0m\u001b[0;34m\u001b[0m\u001b[0m\n\u001b[1;32m    460\u001b[0m             \u001b[0muse_cftime\u001b[0m\u001b[0;34m=\u001b[0m\u001b[0muse_cftime\u001b[0m\u001b[0;34m,\u001b[0m\u001b[0;34m\u001b[0m\u001b[0;34m\u001b[0m\u001b[0m\n\u001b[0;32m--> 461\u001b[0;31m             \u001b[0mdecode_timedelta\u001b[0m\u001b[0;34m=\u001b[0m\u001b[0mdecode_timedelta\u001b[0m\u001b[0;34m,\u001b[0m\u001b[0;34m\u001b[0m\u001b[0;34m\u001b[0m\u001b[0m\n\u001b[0m\u001b[1;32m    462\u001b[0m         )\n\u001b[1;32m    463\u001b[0m \u001b[0;34m\u001b[0m\u001b[0m\n",
      "\u001b[0;32m~/.conda/envs/swamp2/lib/python3.7/site-packages/xarray/conventions.py\u001b[0m in \u001b[0;36mdecode_cf\u001b[0;34m(obj, concat_characters, mask_and_scale, decode_times, decode_coords, drop_variables, use_cftime, decode_timedelta)\u001b[0m\n\u001b[1;32m    653\u001b[0m         \u001b[0mdrop_variables\u001b[0m\u001b[0;34m=\u001b[0m\u001b[0mdrop_variables\u001b[0m\u001b[0;34m,\u001b[0m\u001b[0;34m\u001b[0m\u001b[0;34m\u001b[0m\u001b[0m\n\u001b[1;32m    654\u001b[0m         \u001b[0muse_cftime\u001b[0m\u001b[0;34m=\u001b[0m\u001b[0muse_cftime\u001b[0m\u001b[0;34m,\u001b[0m\u001b[0;34m\u001b[0m\u001b[0;34m\u001b[0m\u001b[0m\n\u001b[0;32m--> 655\u001b[0;31m         \u001b[0mdecode_timedelta\u001b[0m\u001b[0;34m=\u001b[0m\u001b[0mdecode_timedelta\u001b[0m\u001b[0;34m,\u001b[0m\u001b[0;34m\u001b[0m\u001b[0;34m\u001b[0m\u001b[0m\n\u001b[0m\u001b[1;32m    656\u001b[0m     )\n\u001b[1;32m    657\u001b[0m     \u001b[0mds\u001b[0m \u001b[0;34m=\u001b[0m \u001b[0mDataset\u001b[0m\u001b[0;34m(\u001b[0m\u001b[0mvars\u001b[0m\u001b[0;34m,\u001b[0m \u001b[0mattrs\u001b[0m\u001b[0;34m=\u001b[0m\u001b[0mattrs\u001b[0m\u001b[0;34m)\u001b[0m\u001b[0;34m\u001b[0m\u001b[0;34m\u001b[0m\u001b[0m\n",
      "\u001b[0;32m~/.conda/envs/swamp2/lib/python3.7/site-packages/xarray/conventions.py\u001b[0m in \u001b[0;36mdecode_cf_variables\u001b[0;34m(variables, attributes, concat_characters, mask_and_scale, decode_times, decode_coords, drop_variables, use_cftime, decode_timedelta)\u001b[0m\n\u001b[1;32m    518\u001b[0m             \u001b[0mstack_char_dim\u001b[0m\u001b[0;34m=\u001b[0m\u001b[0mstack_char_dim\u001b[0m\u001b[0;34m,\u001b[0m\u001b[0;34m\u001b[0m\u001b[0;34m\u001b[0m\u001b[0m\n\u001b[1;32m    519\u001b[0m             \u001b[0muse_cftime\u001b[0m\u001b[0;34m=\u001b[0m\u001b[0muse_cftime\u001b[0m\u001b[0;34m,\u001b[0m\u001b[0;34m\u001b[0m\u001b[0;34m\u001b[0m\u001b[0m\n\u001b[0;32m--> 520\u001b[0;31m             \u001b[0mdecode_timedelta\u001b[0m\u001b[0;34m=\u001b[0m\u001b[0mdecode_timedelta\u001b[0m\u001b[0;34m,\u001b[0m\u001b[0;34m\u001b[0m\u001b[0;34m\u001b[0m\u001b[0m\n\u001b[0m\u001b[1;32m    521\u001b[0m         )\n\u001b[1;32m    522\u001b[0m         \u001b[0;32mif\u001b[0m \u001b[0mdecode_coords\u001b[0m \u001b[0;32min\u001b[0m \u001b[0;34m[\u001b[0m\u001b[0;32mTrue\u001b[0m\u001b[0;34m,\u001b[0m \u001b[0;34m\"coordinates\"\u001b[0m\u001b[0;34m,\u001b[0m \u001b[0;34m\"all\"\u001b[0m\u001b[0;34m]\u001b[0m\u001b[0;34m:\u001b[0m\u001b[0;34m\u001b[0m\u001b[0;34m\u001b[0m\u001b[0m\n",
      "\u001b[0;32m~/.conda/envs/swamp2/lib/python3.7/site-packages/xarray/conventions.py\u001b[0m in \u001b[0;36mdecode_cf_variable\u001b[0;34m(name, var, concat_characters, mask_and_scale, decode_times, decode_endianness, stack_char_dim, use_cftime, decode_timedelta)\u001b[0m\n\u001b[1;32m    353\u001b[0m             \u001b[0mvariables\u001b[0m\u001b[0;34m.\u001b[0m\u001b[0mCFScaleOffsetCoder\u001b[0m\u001b[0;34m(\u001b[0m\u001b[0;34m)\u001b[0m\u001b[0;34m,\u001b[0m\u001b[0;34m\u001b[0m\u001b[0;34m\u001b[0m\u001b[0m\n\u001b[1;32m    354\u001b[0m         ]:\n\u001b[0;32m--> 355\u001b[0;31m             \u001b[0mvar\u001b[0m \u001b[0;34m=\u001b[0m \u001b[0mcoder\u001b[0m\u001b[0;34m.\u001b[0m\u001b[0mdecode\u001b[0m\u001b[0;34m(\u001b[0m\u001b[0mvar\u001b[0m\u001b[0;34m,\u001b[0m \u001b[0mname\u001b[0m\u001b[0;34m=\u001b[0m\u001b[0mname\u001b[0m\u001b[0;34m)\u001b[0m\u001b[0;34m\u001b[0m\u001b[0;34m\u001b[0m\u001b[0m\n\u001b[0m\u001b[1;32m    356\u001b[0m \u001b[0;34m\u001b[0m\u001b[0m\n\u001b[1;32m    357\u001b[0m     \u001b[0;32mif\u001b[0m \u001b[0mdecode_timedelta\u001b[0m\u001b[0;34m:\u001b[0m\u001b[0;34m\u001b[0m\u001b[0;34m\u001b[0m\u001b[0m\n",
      "\u001b[0;32m~/.conda/envs/swamp2/lib/python3.7/site-packages/xarray/coding/variables.py\u001b[0m in \u001b[0;36mdecode\u001b[0;34m(self, variable, name)\u001b[0m\n\u001b[1;32m    188\u001b[0m             encoded_fill_values = {\n\u001b[1;32m    189\u001b[0m                 \u001b[0mfv\u001b[0m\u001b[0;34m\u001b[0m\u001b[0;34m\u001b[0m\u001b[0m\n\u001b[0;32m--> 190\u001b[0;31m                 \u001b[0;32mfor\u001b[0m \u001b[0moption\u001b[0m \u001b[0;32min\u001b[0m \u001b[0mraw_fill_values\u001b[0m\u001b[0;34m\u001b[0m\u001b[0;34m\u001b[0m\u001b[0m\n\u001b[0m\u001b[1;32m    191\u001b[0m                 \u001b[0;32mfor\u001b[0m \u001b[0mfv\u001b[0m \u001b[0;32min\u001b[0m \u001b[0mnp\u001b[0m\u001b[0;34m.\u001b[0m\u001b[0mravel\u001b[0m\u001b[0;34m(\u001b[0m\u001b[0moption\u001b[0m\u001b[0;34m)\u001b[0m\u001b[0;34m\u001b[0m\u001b[0;34m\u001b[0m\u001b[0m\n\u001b[1;32m    192\u001b[0m                 \u001b[0;32mif\u001b[0m \u001b[0;32mnot\u001b[0m \u001b[0mpd\u001b[0m\u001b[0;34m.\u001b[0m\u001b[0misnull\u001b[0m\u001b[0;34m(\u001b[0m\u001b[0mfv\u001b[0m\u001b[0;34m)\u001b[0m\u001b[0;34m\u001b[0m\u001b[0;34m\u001b[0m\u001b[0m\n",
      "\u001b[0;32m~/.conda/envs/swamp2/lib/python3.7/site-packages/xarray/coding/variables.py\u001b[0m in \u001b[0;36m<setcomp>\u001b[0;34m(.0)\u001b[0m\n\u001b[1;32m    189\u001b[0m                 \u001b[0mfv\u001b[0m\u001b[0;34m\u001b[0m\u001b[0;34m\u001b[0m\u001b[0m\n\u001b[1;32m    190\u001b[0m                 \u001b[0;32mfor\u001b[0m \u001b[0moption\u001b[0m \u001b[0;32min\u001b[0m \u001b[0mraw_fill_values\u001b[0m\u001b[0;34m\u001b[0m\u001b[0;34m\u001b[0m\u001b[0m\n\u001b[0;32m--> 191\u001b[0;31m                 \u001b[0;32mfor\u001b[0m \u001b[0mfv\u001b[0m \u001b[0;32min\u001b[0m \u001b[0mnp\u001b[0m\u001b[0;34m.\u001b[0m\u001b[0mravel\u001b[0m\u001b[0;34m(\u001b[0m\u001b[0moption\u001b[0m\u001b[0;34m)\u001b[0m\u001b[0;34m\u001b[0m\u001b[0;34m\u001b[0m\u001b[0m\n\u001b[0m\u001b[1;32m    192\u001b[0m                 \u001b[0;32mif\u001b[0m \u001b[0;32mnot\u001b[0m \u001b[0mpd\u001b[0m\u001b[0;34m.\u001b[0m\u001b[0misnull\u001b[0m\u001b[0;34m(\u001b[0m\u001b[0mfv\u001b[0m\u001b[0;34m)\u001b[0m\u001b[0;34m\u001b[0m\u001b[0;34m\u001b[0m\u001b[0m\n\u001b[1;32m    193\u001b[0m             }\n",
      "\u001b[0;32m<__array_function__ internals>\u001b[0m in \u001b[0;36mravel\u001b[0;34m(*args, **kwargs)\u001b[0m\n",
      "\u001b[0;32m~/.conda/envs/swamp2/lib/python3.7/site-packages/numpy/core/fromnumeric.py\u001b[0m in \u001b[0;36mravel\u001b[0;34m(a, order)\u001b[0m\n\u001b[1;32m   1817\u001b[0m \u001b[0;34m\u001b[0m\u001b[0m\n\u001b[1;32m   1818\u001b[0m     \"\"\"\n\u001b[0;32m-> 1819\u001b[0;31m     \u001b[0;32mif\u001b[0m \u001b[0misinstance\u001b[0m\u001b[0;34m(\u001b[0m\u001b[0ma\u001b[0m\u001b[0;34m,\u001b[0m \u001b[0mnp\u001b[0m\u001b[0;34m.\u001b[0m\u001b[0mmatrix\u001b[0m\u001b[0;34m)\u001b[0m\u001b[0;34m:\u001b[0m\u001b[0;34m\u001b[0m\u001b[0;34m\u001b[0m\u001b[0m\n\u001b[0m\u001b[1;32m   1820\u001b[0m         \u001b[0;32mreturn\u001b[0m \u001b[0masarray\u001b[0m\u001b[0;34m(\u001b[0m\u001b[0ma\u001b[0m\u001b[0;34m)\u001b[0m\u001b[0;34m.\u001b[0m\u001b[0mravel\u001b[0m\u001b[0;34m(\u001b[0m\u001b[0morder\u001b[0m\u001b[0;34m=\u001b[0m\u001b[0morder\u001b[0m\u001b[0;34m)\u001b[0m\u001b[0;34m\u001b[0m\u001b[0;34m\u001b[0m\u001b[0m\n\u001b[1;32m   1821\u001b[0m     \u001b[0;32melse\u001b[0m\u001b[0;34m:\u001b[0m\u001b[0;34m\u001b[0m\u001b[0;34m\u001b[0m\u001b[0m\n",
      "\u001b[0;31mAttributeError\u001b[0m: module 'numpy' has no attribute 'matrix'"
     ]
    }
   ],
   "source": [
    "ds = xr.open_dataset(f'{tdir}/JRA_wind_daily_1x1_{yr}.nc')"
   ]
  },
  {
   "cell_type": "code",
   "execution_count": null,
   "id": "d702f62e-e24e-44f9-99a3-8ca63d07545a",
   "metadata": {},
   "outputs": [],
   "source": [
    "# w = xr.open_dataset('uwnd.10m.gauss.1980DOE.nc')\n",
    "# ncepdir = '/gpfs/data/greenocean2/software/products/windsFromComponents/NCEP-DOE/'\n",
    "# ndoe = xr.open_dataset(f'{ncepdir}/windU/uwnd.10m.gauss.1980.nc')\n",
    "# w2 = ndoe\n",
    "\n",
    "# q = (w.uwnd.values - w2.uwnd.values)\n",
    "# print(np.nanmax(q))\n",
    "# print(np.nanmin(q))\n",
    "\n",
    "\n",
    "# w = xr.open_dataset('uwnd.10m.gauss.1980NCAR.nc')\n",
    "# ncepdir = '/gpfs/data/greenocean2/software/products/windsFromComponents/NCEP-NCAR/'\n",
    "# nncar = xr.open_dataset(f'{ncepdir}/windU/uwnd.10m.gauss.1980.nc')\n",
    "# w2 = nncar\n",
    "\n",
    "# q = (w.uwnd.values - w2.uwnd.values)\n",
    "# print(np.nanmax(q))\n",
    "# print(np.nanmin(q))\n",
    "\n",
    "# duwnd = ndoe.uwnd.squeeze()\n",
    "# nuwnd = nncar.uwnd.squeeze()\n",
    "\n",
    "# dmuwnd = duwnd.mean(dim = 'time')\n",
    "# nmuwnd = nuwnd.mean(dim = 'time')\n",
    "\n",
    "# q = plt.pcolormesh(dmuwnd - nmuwnd, cmap = cm.balance)\n",
    "# plt.colorbar(q)\n",
    "# tv = dmuwnd - nmuwnd\n",
    "# print(np.nanmean(tv[30,:]))\n",
    "\n",
    "#y = 1980\n",
    "# for y in range(1980,2024):\n",
    "#     ncepdir = '/gpfs/data/greenocean2/software/products/windsFromComponents/NCEP-NCAR/'\n",
    "#     nncar = xr.open_dataset(f'{ncepdir}/daily/wspd.10m.gauss.{y}_daily.nc')\n",
    "#     ncepdir = '/gpfs/data/greenocean2/software/products/windsFromComponents/NCEP-DOE/'\n",
    "#     ndoe = xr.open_dataset(f'{ncepdir}/daily/wspd.10m.gauss.{y}_daily.nc')\n",
    "    \n",
    "#     duwnd = ndoe.windspeed.squeeze()\n",
    "#     nuwnd = nncar.windspeed.squeeze()\n",
    "\n",
    "#     dmuwnd = duwnd.mean(dim = 'time')\n",
    "#     nmuwnd = nuwnd.mean(dim = 'time')\n",
    "\n",
    "#     # q = plt.pcolormesh(dmuwnd - nmuwnd, cmap = cm.balance)\n",
    "#     # plt.colorbar(q)\n",
    "#     tv = dmuwnd - nmuwnd\n",
    "#     print(f'{y} {np.nanmean(tv[30,:])}')"
   ]
  },
  {
   "cell_type": "markdown",
   "id": "a9039dfa-9a3f-4ef8-94d6-c5d87a97d0da",
   "metadata": {},
   "source": [
    "# UKESM "
   ]
  },
  {
   "cell_type": "code",
   "execution_count": null,
   "id": "68d74c8e-ac1e-4941-9bdd-494b910877e2",
   "metadata": {},
   "outputs": [],
   "source": [
    "tdir = '/gpfs/data/greenocean2/software/products/windsFromComponents/symlinked_hrly_UKESM/newdaily/'\n",
    "cdir = '/gpfs/data/greenocean2/software/products/windsFromComponents/dailyStandard/UKESM/'\n",
    "mons = ['01','02','03','04','05','06','07','08','09','10','11','12']\n",
    "scens = ['1B']\n",
    "\n",
    "ex = False\n",
    "if ex:\n",
    "    for s in scens:\n",
    "        for y in range(1940,2024):\n",
    "            print(y)\n",
    "            for i in range(0,12):\n",
    "                uwi = xr.open_dataset(f'{tdir}scen{s}_uwnd_y{y}m{mons[i]}_rg.nc')\n",
    "                vwi = xr.open_dataset(f'{tdir}scen{s}_vwnd_y{y}m{mons[i]}_rg.nc')\n",
    "\n",
    "                wspd = xr.ufuncs.sqrt(uwi.uwind10m**2 + vwi.vwind10m**2)\n",
    "                wspd.name = 'wspd10m'\n",
    "                wb = xr.merge([uwi, vwi, wspd])\n",
    "                wb = wb.rename({\"uwind10m\": \"u10m\"})\n",
    "                wb = wb.rename({\"vwind10m\": \"v10m\"})\n",
    "                savenam = f'UKESM_wind_daily_1x1_{y}m{mons[i]}.nc'\n",
    "                print(savenam)\n",
    "                wb.attrs = {'howmade': 'https://nettle-pajama-b85.notion.site/Winds-eval-paper-notes-76fc22d90ce14e23b8247ba370b15265?pvs=4'}\n",
    "                wb.to_netcdf(f'{cdir}{savenam}')\n",
    "\n",
    "if ex:\n",
    "    \n",
    "    tdir = '/gpfs/data/greenocean2/software/products/windsFromComponents/dailyStandard/UKESM/'\n",
    "\n",
    "    for y in range(1940,2024):\n",
    "    \n",
    "        print(y)\n",
    "        m01 = xr.open_dataset(f'{tdir}UKESM_wind_daily_1x1_{y}m01.nc')\n",
    "        m02 = xr.open_dataset(f'{tdir}UKESM_wind_daily_1x1_{y}m02.nc')\n",
    "        m03 = xr.open_dataset(f'{tdir}UKESM_wind_daily_1x1_{y}m03.nc')\n",
    "        m04 = xr.open_dataset(f'{tdir}UKESM_wind_daily_1x1_{y}m04.nc')\n",
    "        m05 = xr.open_dataset(f'{tdir}UKESM_wind_daily_1x1_{y}m05.nc')\n",
    "        m06 = xr.open_dataset(f'{tdir}UKESM_wind_daily_1x1_{y}m06.nc')\n",
    "        m07 = xr.open_dataset(f'{tdir}UKESM_wind_daily_1x1_{y}m07.nc')\n",
    "        m08 = xr.open_dataset(f'{tdir}UKESM_wind_daily_1x1_{y}m08.nc')\n",
    "        m09 = xr.open_dataset(f'{tdir}UKESM_wind_daily_1x1_{y}m09.nc')\n",
    "        m10 = xr.open_dataset(f'{tdir}UKESM_wind_daily_1x1_{y}m10.nc')\n",
    "        m11 = xr.open_dataset(f'{tdir}UKESM_wind_daily_1x1_{y}m11.nc')\n",
    "        m12 = xr.open_dataset(f'{tdir}UKESM_wind_daily_1x1_{y}m12.nc')\n",
    "\n",
    "        m01 = xr.open_dataset(f'{tdir}UKESM_wind_daily_1x1_{y}m01.nc')\n",
    "\n",
    "        stacked = xr.concat([m01,m02,m03,m04,m05,m06,m07,m08,m09,m10,m11,m12], dim=\"time_counter\")\n",
    "        stacked.to_netcdf(f'{tdir}UKESM_wind_daily_1x1_{y}.nc')"
   ]
  },
  {
   "cell_type": "code",
   "execution_count": null,
   "id": "9aebea55-7079-4224-8d34-5a2e1e8b467a",
   "metadata": {},
   "outputs": [],
   "source": []
  },
  {
   "cell_type": "code",
   "execution_count": null,
   "id": "4e4cd5e9-ebf0-416a-a3df-696f6a99b424",
   "metadata": {},
   "outputs": [],
   "source": [
    "tdir = '/gpfs/data/greenocean2/software/products/windsFromComponents/symlinked_hrly_UKESM/newdaily/'\n",
    "cdir = '/gpfs/data/greenocean2/software/products/windsFromComponents/dailyStandard/UKESM/'\n",
    "mons = ['01','02','03','04','05','06','07','08','09','10','11','12']\n",
    "scens = ['2B']\n",
    "\n",
    "ex = True\n",
    "if ex:\n",
    "    for s in scens:\n",
    "        for y in range(1940,2024):\n",
    "            print(y)\n",
    "            for i in range(0,12):\n",
    "                uwi = xr.open_dataset(f'{tdir}scen{s}_uwnd_y{y}m{mons[i]}_rg.nc')\n",
    "                vwi = xr.open_dataset(f'{tdir}scen{s}_vwnd_y{y}m{mons[i]}_rg.nc')\n",
    "\n",
    "                wspd = xr.ufuncs.sqrt(uwi.uwind10m**2 + vwi.vwind10m**2)\n",
    "                wspd.name = 'wspd10m'\n",
    "                wb = xr.merge([uwi, vwi, wspd])\n",
    "                wb = wb.rename({\"uwind10m\": \"u10m\"})\n",
    "                wb = wb.rename({\"vwind10m\": \"v10m\"})\n",
    "                savenam = f'UKESM_NOZONE_wind_daily_1x1_{y}m{mons[i]}.nc'\n",
    "                print(savenam)\n",
    "                wb.attrs = {'howmade': 'https://nettle-pajama-b85.notion.site/Winds-eval-paper-notes-76fc22d90ce14e23b8247ba370b15265?pvs=4'}\n",
    "                wb.to_netcdf(f'{cdir}{savenam}')\n",
    "                \n",
    "\n",
    "\n",
    "if ex:\n",
    "    \n",
    "    tdir = '/gpfs/data/greenocean2/software/products/windsFromComponents/dailyStandard/UKESM/'\n",
    "\n",
    "    for y in range(1940,2024):\n",
    "    \n",
    "        print(y)\n",
    "        m01 = xr.open_dataset(f'{tdir}UKESM_NOZONE_wind_daily_1x1_{y}m01.nc')\n",
    "        m02 = xr.open_dataset(f'{tdir}UKESM_NOZONE_wind_daily_1x1_{y}m02.nc')\n",
    "        m03 = xr.open_dataset(f'{tdir}UKESM_NOZONE_wind_daily_1x1_{y}m03.nc')\n",
    "        m04 = xr.open_dataset(f'{tdir}UKESM_NOZONE_wind_daily_1x1_{y}m04.nc')\n",
    "        m05 = xr.open_dataset(f'{tdir}UKESM_NOZONE_wind_daily_1x1_{y}m05.nc')\n",
    "        m06 = xr.open_dataset(f'{tdir}UKESM_NOZONE_wind_daily_1x1_{y}m06.nc')\n",
    "        m07 = xr.open_dataset(f'{tdir}UKESM_NOZONE_wind_daily_1x1_{y}m07.nc')\n",
    "        m08 = xr.open_dataset(f'{tdir}UKESM_NOZONE_wind_daily_1x1_{y}m08.nc')\n",
    "        m09 = xr.open_dataset(f'{tdir}UKESM_NOZONE_wind_daily_1x1_{y}m09.nc')\n",
    "        m10 = xr.open_dataset(f'{tdir}UKESM_NOZONE_wind_daily_1x1_{y}m10.nc')\n",
    "        m11 = xr.open_dataset(f'{tdir}UKESM_NOZONE_wind_daily_1x1_{y}m11.nc')\n",
    "        m12 = xr.open_dataset(f'{tdir}UKESM_NOZONE_wind_daily_1x1_{y}m12.nc')\n",
    "\n",
    "        m01 = xr.open_dataset(f'{tdir}UKESM_NOZONE_wind_daily_1x1_{y}m01.nc')\n",
    "\n",
    "        stacked = xr.concat([m01,m02,m03,m04,m05,m06,m07,m08,m09,m10,m11,m12], dim=\"time_counter\")\n",
    "        stacked.to_netcdf(f'{tdir}UKESM_NOZONE_wind_daily_1x1_{y}.nc')\n"
   ]
  },
  {
   "cell_type": "code",
   "execution_count": null,
   "id": "1f666148-8a50-463b-9149-6584b58d8f17",
   "metadata": {},
   "outputs": [],
   "source": []
  },
  {
   "cell_type": "code",
   "execution_count": null,
   "id": "cdbf3995-8edf-4a9e-9438-63e2582eeef2",
   "metadata": {},
   "outputs": [],
   "source": [
    "w = xr.open_dataset(f'{cdir}UKESM_wind_daily_1x1_{1948}m{mons[0]}.nc')\n"
   ]
  },
  {
   "cell_type": "markdown",
   "id": "a895a22e-9459-41e2-80b8-e3f009da7100",
   "metadata": {},
   "source": [
    "## NCEP-NCAR"
   ]
  },
  {
   "cell_type": "code",
   "execution_count": null,
   "id": "46dcf730-5fad-4b95-afe4-79e52f7c913a",
   "metadata": {},
   "outputs": [],
   "source": [
    "yst = 1948; yen = 2024\n",
    "tdir = '/gpfs/data/greenocean2/software/products/windsFromComponents/NCEP-NCAR/daily/'\n",
    "cdir = '/gpfs/data/greenocean2/software/products/windsFromComponents/dailyStandard/'\n",
    "\n",
    "ex = False\n",
    "\n",
    "if ex:\n",
    "\n",
    "    for i in range(yst,yen):\n",
    "\n",
    "        print(i)\n",
    "        \n",
    "        times = pd.date_range(f\"{i}/01/01\",f\"{i+1}/01/01\",freq='D',closed='left')\n",
    "\n",
    "        ws = xr.open_dataset(f'{tdir}wspd.10m.gauss.{i}_daily_rg.nc')\n",
    "        wu = xr.open_dataset(f'{tdir}uwnd.10m.gauss.{i}_daily_rg.nc')\n",
    "        wv = xr.open_dataset(f'{tdir}vwnd.10m.gauss.{i}_daily_rg.nc')\n",
    "        \n",
    "        wb = xr.merge([ws, wu, wv])\n",
    "        \n",
    "        wb = wb.rename({\"time\": \"time_counter\"})\n",
    "        wb['time_counter'] = times\n",
    "        wb = wb.rename({\"uwnd\": \"u10m\"})\n",
    "        wb = wb.rename({\"vwnd\": \"v10m\"})\n",
    "        wb = wb.rename({\"windspeed\": \"wspd10m\"})\n",
    "\n",
    "        savenam = f'NCEP-NCAR_wind_daily_1x1_{i}.nc'\n",
    "        print(savenam)\n",
    "        wb.attrs = {'howmade': 'https://nettle-pajama-b85.notion.site/Winds-eval-paper-notes-76fc22d90ce14e23b8247ba370b15265?pvs=4'}\n",
    "        wb.to_netcdf(f'{cdir}/NCEP-NCAR/{savenam}')"
   ]
  },
  {
   "cell_type": "markdown",
   "id": "4e750e1d-5dec-499a-a5bc-484e289417bb",
   "metadata": {},
   "source": [
    "## NCEP-DOE"
   ]
  },
  {
   "cell_type": "code",
   "execution_count": null,
   "id": "2aed59f5-2ecf-42cb-b588-8979b60b2b44",
   "metadata": {},
   "outputs": [],
   "source": [
    "yst = 1979; yen = 2024\n",
    "tdir = '/gpfs/data/greenocean2/software/products/windsFromComponents/NCEP-DOE/daily/'\n",
    "cdir = '/gpfs/data/greenocean2/software/products/windsFromComponents/dailyStandard/'\n",
    "\n",
    "ex = False\n",
    "\n",
    "if ex:\n",
    "\n",
    "    for i in range(yst,yen):\n",
    "\n",
    "        print(i)\n",
    "        \n",
    "        times = pd.date_range(f\"{i}/01/01\",f\"{i+1}/01/01\",freq='D',closed='left')\n",
    "\n",
    "        ws = xr.open_dataset(f'{tdir}wspd.10m.gauss.{i}_daily_rg.nc')\n",
    "        wu = xr.open_dataset(f'{tdir}uwnd.10m.gauss.{i}_daily_rg.nc')\n",
    "        wv = xr.open_dataset(f'{tdir}vwnd.10m.gauss.{i}_daily_rg.nc')\n",
    "        \n",
    "        ws = ws.squeeze()\n",
    "        wu = wu.squeeze()\n",
    "        wv = wv.squeeze()\n",
    "        \n",
    "        wb = xr.merge([ws, wu, wv])\n",
    "        \n",
    "        wb = wb.rename({\"time\": \"time_counter\"})\n",
    "        wb['time_counter'] = times\n",
    "        wb = wb.rename({\"uwnd\": \"u10m\"})\n",
    "        wb = wb.rename({\"vwnd\": \"v10m\"})\n",
    "        wb = wb.rename({\"windspeed\": \"wspd10m\"})\n",
    "\n",
    "        savenam = f'NCEP-DOE_wind_daily_1x1_{i}.nc'\n",
    "        print(savenam)\n",
    "        wb.attrs = {'howmade': 'https://nettle-pajama-b85.notion.site/Winds-eval-paper-notes-76fc22d90ce14e23b8247ba370b15265?pvs=4'}\n",
    "        wb.to_netcdf(f'{cdir}/NCEP-DOE/{savenam}')\n",
    "        \n",
    "wb"
   ]
  },
  {
   "cell_type": "code",
   "execution_count": null,
   "id": "b78bb753-05ad-4448-a53e-14edd9b473c5",
   "metadata": {},
   "outputs": [],
   "source": []
  },
  {
   "cell_type": "markdown",
   "id": "effcf987-00ed-4440-8b1b-1ffc170c3b6c",
   "metadata": {},
   "source": [
    "# ERA5"
   ]
  },
  {
   "cell_type": "code",
   "execution_count": null,
   "id": "a49efe38-f8e9-4620-8f1c-f1a9404d8e67",
   "metadata": {},
   "outputs": [],
   "source": [
    "yst = 1970; yen = 1971\n",
    "tdir = '/gpfs/data/greenocean2/software/products/windsFromComponents/ERA5_v2024/scripts/daily/'\n",
    "cdir = '/gpfs/data/greenocean2/software/products/windsFromComponents/dailyStandard/'\n",
    "\n",
    "ex = False\n",
    "\n",
    "if ex:\n",
    "\n",
    "    for i in range(yst,yen):\n",
    "\n",
    "        print(i)\n",
    "        \n",
    "        times = pd.date_range(f\"{i}/01/01\",f\"{i+1}/01/01\",freq='D',closed='left')\n",
    "\n",
    "        ws = xr.open_dataset(f'{tdir}10m_windspeed_ERA5_{i}_daily_rg.nc')\n",
    "        wu = xr.open_dataset(f'{tdir}10m_u_component_of_wind_ERA5_{i}_daily_rg.nc')\n",
    "        wv = xr.open_dataset(f'{tdir}10m_v_component_of_wind_ERA5_{i}_daily_rg.nc')\n",
    "        \n",
    "        wb = xr.merge([ws, wu, wv])\n",
    "        \n",
    "        wb = wb.rename({\"time\": \"time_counter\"})\n",
    "        wb['time_counter'] = times\n",
    "        wb = wb.rename({\"u10\": \"u10m\"})\n",
    "        wb = wb.rename({\"v10\": \"v10m\"})\n",
    "        wb = wb.rename({\"windspeed\": \"wspd10m\"})\n",
    "\n",
    "        savenam = f'ERA5_wind_daily_1x1_{i}.nc'\n",
    "        print(savenam)\n",
    "        wb.attrs = {'howmade': 'https://nettle-pajama-b85.notion.site/Winds-eval-paper-notes-76fc22d90ce14e23b8247ba370b15265?pvs=4'}\n",
    "        wb.to_netcdf(f'{cdir}/ERA5/{savenam}')"
   ]
  },
  {
   "cell_type": "code",
   "execution_count": null,
   "id": "d0235e2d-1419-441b-a23f-5c276bcf3acc",
   "metadata": {},
   "outputs": [],
   "source": [
    "plt.pcolormesh(wb.wspd10m[0,:,:])"
   ]
  },
  {
   "cell_type": "code",
   "execution_count": null,
   "id": "df1d3f12-d136-4c9c-97b5-b66ee4ca41ee",
   "metadata": {},
   "outputs": [],
   "source": []
  }
 ],
 "metadata": {
  "kernelspec": {
   "display_name": "Python 3 (ipykernel)",
   "language": "python",
   "name": "python3"
  },
  "language_info": {
   "codemirror_mode": {
    "name": "ipython",
    "version": 3
   },
   "file_extension": ".py",
   "mimetype": "text/x-python",
   "name": "python",
   "nbconvert_exporter": "python",
   "pygments_lexer": "ipython3",
   "version": "3.7.11"
  }
 },
 "nbformat": 4,
 "nbformat_minor": 5
}
